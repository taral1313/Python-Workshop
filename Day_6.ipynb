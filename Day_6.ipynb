{
 "cells": [
  {
   "cell_type": "code",
   "execution_count": 17,
   "metadata": {},
   "outputs": [
    {
     "name": "stdout",
     "output_type": "stream",
     "text": [
      "\n",
      " [[ 6 27  7]\n",
      " [37  1 12]\n",
      " [ 7 19 31]\n",
      " [10 19 27]] \n",
      "\n",
      "[ 6  1 31]\n",
      "\n",
      "\n",
      " None\n",
      "\n",
      " [[ 6 27  7]\n",
      " [37  1 12]\n",
      " [ 7 19 31]]\n"
     ]
    }
   ],
   "source": [
    "import numpy as np\n",
    "a = np.random.RandomState(40)\n",
    "b = a.randint(50, size= (4,3))\n",
    "print(\"\\n\",b,\"\\n\")\n",
    "row = np.array([0,1,2])\n",
    "col = np.array([0,1,2])\n",
    "\n",
    "c = print(b[row,col])\n",
    "print(\"\\n\\n\",c)\n",
    "\n",
    "d = b[row[ : , np.newaxis],col]\n",
    "print(\"\\n\",d)\n"
   ]
  },
  {
   "cell_type": "code",
   "execution_count": 13,
   "metadata": {},
   "outputs": [
    {
     "data": {
      "text/plain": [
       "array([ 7, 19, 31])"
      ]
     },
     "execution_count": 13,
     "metadata": {},
     "output_type": "execute_result"
    }
   ],
   "source": [
    "import numpy as np\n",
    "a = np.random.RandomState(40)\n",
    "b = a.randint(50, size= (4,3))\n",
    "b[2]"
   ]
  },
  {
   "cell_type": "code",
   "execution_count": 10,
   "metadata": {},
   "outputs": [
    {
     "ename": "NameError",
     "evalue": "name 'b' is not defined",
     "output_type": "error",
     "traceback": [
      "\u001b[1;31m---------------------------------------------------------------------------\u001b[0m",
      "\u001b[1;31mNameError\u001b[0m                                 Traceback (most recent call last)",
      "\u001b[1;32m<ipython-input-10-37a12331bffa>\u001b[0m in \u001b[0;36m<module>\u001b[1;34m\u001b[0m\n\u001b[0;32m      3\u001b[0m \u001b[0mcol\u001b[0m \u001b[1;33m=\u001b[0m \u001b[0mnp\u001b[0m\u001b[1;33m.\u001b[0m\u001b[0marray\u001b[0m\u001b[1;33m(\u001b[0m\u001b[1;33m[\u001b[0m\u001b[1;36m0\u001b[0m\u001b[1;33m,\u001b[0m\u001b[1;36m1\u001b[0m\u001b[1;33m,\u001b[0m\u001b[1;36m2\u001b[0m\u001b[1;33m]\u001b[0m\u001b[1;33m)\u001b[0m\u001b[1;33m\u001b[0m\u001b[1;33m\u001b[0m\u001b[0m\n\u001b[0;32m      4\u001b[0m \u001b[1;33m\u001b[0m\u001b[0m\n\u001b[1;32m----> 5\u001b[1;33m \u001b[0mprint\u001b[0m\u001b[1;33m(\u001b[0m\u001b[0mb\u001b[0m\u001b[1;33m[\u001b[0m\u001b[0mrow\u001b[0m\u001b[1;33m,\u001b[0m\u001b[0mcol\u001b[0m\u001b[1;33m]\u001b[0m\u001b[1;33m)\u001b[0m\u001b[1;33m\u001b[0m\u001b[1;33m\u001b[0m\u001b[0m\n\u001b[0m\u001b[0;32m      6\u001b[0m \u001b[1;33m\u001b[0m\u001b[0m\n\u001b[0;32m      7\u001b[0m \u001b[0mb\u001b[0m \u001b[1;33m=\u001b[0m \u001b[1;33m[\u001b[0m\u001b[0mrow\u001b[0m\u001b[1;33m[\u001b[0m\u001b[1;33m:\u001b[0m\u001b[1;33m,\u001b[0m \u001b[0mnp\u001b[0m\u001b[1;33m.\u001b[0m\u001b[0mnewaxis\u001b[0m\u001b[1;33m]\u001b[0m\u001b[1;33m,\u001b[0m\u001b[0mcol\u001b[0m\u001b[1;33m]\u001b[0m\u001b[1;33m\u001b[0m\u001b[1;33m\u001b[0m\u001b[0m\n",
      "\u001b[1;31mNameError\u001b[0m: name 'b' is not defined"
     ]
    }
   ],
   "source": [
    "import numpy as np\n",
    "row = np.array([0,1,2])\n",
    "col = np.array([0,1,2])\n",
    "\n",
    "print(b[row,col])\n",
    "\n",
    "b = [row[:, np.newaxis],col]\n",
    "print(b)"
   ]
  },
  {
   "cell_type": "code",
   "execution_count": 25,
   "metadata": {},
   "outputs": [
    {
     "data": {
      "text/plain": [
       "array([[ 1.45343199,  3.47536531],\n",
       "       [ 1.13413375,  1.15279058],\n",
       "       [-1.12203063, -3.22483272],\n",
       "       [ 0.3114858 ,  1.9104427 ],\n",
       "       [ 1.69268807,  2.64965768],\n",
       "       [-0.44666801, -0.14512021],\n",
       "       [-0.51566847, -1.60706455],\n",
       "       [ 0.3097182 ,  2.47837175],\n",
       "       [-3.43980977, -7.23528036],\n",
       "       [-0.39868916, -0.15853567],\n",
       "       [ 0.30728628,  0.9021741 ],\n",
       "       [ 0.44235796,  0.89398987],\n",
       "       [-0.23815467, -0.26596642],\n",
       "       [-0.39488369,  0.89853918],\n",
       "       [-0.12580261,  0.44346824],\n",
       "       [-1.52402849, -2.23064711],\n",
       "       [ 1.07862635,  3.13053983],\n",
       "       [-0.83525514, -1.62307303],\n",
       "       [-0.23477738,  0.91962609],\n",
       "       [ 0.43309141,  1.45228835],\n",
       "       [-0.09918782,  0.56479801],\n",
       "       [-0.21570548, -2.15104663],\n",
       "       [ 1.62331435,  3.68198925],\n",
       "       [ 0.18668568,  0.86041453],\n",
       "       [-0.1852134 , -1.71122301],\n",
       "       [ 0.74769826,  1.76306815],\n",
       "       [-1.92860005, -6.27031967],\n",
       "       [-0.28946096, -0.13090377],\n",
       "       [-0.77328708, -1.81113068],\n",
       "       [ 0.04556702,  0.4111294 ],\n",
       "       [-0.09359743, -0.18887236],\n",
       "       [-0.32862527, -1.81475755],\n",
       "       [-0.1969915 ,  0.72384193],\n",
       "       [ 0.04557504, -0.12081033],\n",
       "       [ 0.9267066 ,  1.94432216],\n",
       "       [-0.30169131, -0.45578619],\n",
       "       [-0.84308015, -1.50068478],\n",
       "       [-1.13606952, -3.3733372 ],\n",
       "       [-2.32486435, -4.43525614],\n",
       "       [-0.13624045, -2.04762772],\n",
       "       [-0.22890863, -3.12164175],\n",
       "       [ 1.48672472, -0.53452466],\n",
       "       [ 0.0497939 ,  0.4995166 ],\n",
       "       [ 0.29127946,  0.01666992],\n",
       "       [ 1.31915302,  0.40197361],\n",
       "       [ 0.14821568, -0.42073628],\n",
       "       [-1.29368251, -1.3678612 ],\n",
       "       [-0.90575207, -3.60112029],\n",
       "       [ 0.82002285,  1.98541204],\n",
       "       [-0.59553161, -2.01740002]])"
      ]
     },
     "execution_count": 25,
     "metadata": {},
     "output_type": "execute_result"
    }
   ],
   "source": [
    "rand = np.random.RandomState(50)\n",
    "mean = [0,0]\n",
    "cov = [[1,2],[2,5]]\n",
    "x = rand.multivariate_normal(mean,cov,50)\n",
    "x\n"
   ]
  },
  {
   "cell_type": "code",
   "execution_count": 26,
   "metadata": {},
   "outputs": [
    {
     "data": {
      "image/png": "[encoded data removed]",
      "text/plain": [
       "<Figure size 432x288 with 1 Axes>"
      ]
     },
     "metadata": {
      "needs_background": "light"
     },
     "output_type": "display_data"
    }
   ],
   "source": [
    "%matplotlib inline\n",
    "import matplotlib.pyplot as plt\n",
    "plt.scatter(x[:,0],x[:,1]);"
   ]
  },
  {
   "cell_type": "code",
   "execution_count": 40,
   "metadata": {},
   "outputs": [
    {
     "name": "stdout",
     "output_type": "stream",
     "text": [
      "[[10 11  3]\n",
      " [13  4  2]\n",
      " [11  2  2]]\n",
      "[[ 2  3  4 10 11 13]\n",
      " [ 3  1  1  1  2  1]]\n"
     ]
    }
   ],
   "source": [
    "\n",
    "a = np.random.randint(low = 20,size = (3,3))\n",
    "print(a)\n",
    "\n",
    "unique_elements, counts_elements = np.unique(a, return_counts=True)\n",
    "print(np.asarray((unique_elements, counts_elements)))"
   ]
  },
  {
   "cell_type": "code",
   "execution_count": 45,
   "metadata": {},
   "outputs": [
    {
     "data": {
      "text/plain": [
       "<matplotlib.collections.PathCollection at 0x22380dc2b00>"
      ]
     },
     "execution_count": 45,
     "metadata": {},
     "output_type": "execute_result"
    },
    {
     "data": {
      "image/png": "[encoded data removed]",
      "text/plain": [
       "<Figure size 432x288 with 1 Axes>"
      ]
     },
     "metadata": {
      "needs_background": "light"
     },
     "output_type": "display_data"
    }
   ],
   "source": [
    "indices = np.random.choice(x.shape[0],20,replace = False)\n",
    "indices\n",
    "\n",
    "selection = x[indices]\n",
    "selection.shape\n",
    "\n",
    "plt.scatter(x[:,0],x[:,1], alpha = 0.4)\n",
    "plt.scatter(selection[:,0],selection[:,1],facecolor = \"blue\" , s= 20)"
   ]
  },
  {
   "cell_type": "code",
   "execution_count": null,
   "metadata": {},
   "outputs": [],
   "source": []
  }
 ],
 "metadata": {
  "kernelspec": {
   "display_name": "Python 3",
   "language": "python",
   "name": "python3"
  },
  "language_info": {
   "codemirror_mode": {
    "name": "ipython",
    "version": 3
   },
   "file_extension": ".py",
   "mimetype": "text/x-python",
   "name": "python",
   "nbconvert_exporter": "python",
   "pygments_lexer": "ipython3",
   "version": "3.7.3"
  }
 },
 "nbformat": 4,
 "nbformat_minor": 2
}
