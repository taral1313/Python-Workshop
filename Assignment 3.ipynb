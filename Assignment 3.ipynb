{
 "cells": [
  {
   "cell_type": "markdown",
   "metadata": {},
   "source": [
    "#### 1. EMail Generator\n",
    "* Write a function to take First Name, Last Name and Date of Birth as input from the user and generate an EMail ID for them.\n",
    "* The function should return the email id as <br>First two letters of First Name,<br>followed by First letter of Last Name,<br>followed by DOB without '/' followed by '@xyz.com'\n",
    "* For Eg: **First Name:** Alice , **Last Name:** Garner , **DOB:** 07/11/1995\n",
    "* Eg Output: alg07111995@xyz.com"
   ]
  },
  {
   "cell_type": "code",
   "execution_count": 42,
   "metadata": {},
   "outputs": [
    {
     "name": "stdout",
     "output_type": "stream",
     "text": [
      " Enter First Name:taral\n",
      " Enter Last Name: sarvagod\n",
      " Enter DOB: 13/04/1998\n",
      "tas13041998@xyz.com\n"
     ]
    }
   ],
   "source": [
    "a = input(\" Enter First Name:\")\n",
    "b = input(\" Enter Last Name: \")\n",
    "c = input(\" Enter DOB: \")\n",
    "\n",
    "l = c.split(\"/\")\n",
    "z = \"@xyz.com\"\n",
    "\n",
    "a1 = a[0] +a[1]+b[0] +l[0]+l[1]+l[2]+z[0]+z[1]+z[2]+z[3]+z[4]+z[5]+z[6]+z[7]\n",
    "print(a1)"
   ]
  },
  {
   "cell_type": "markdown",
   "metadata": {},
   "source": [
    "#### 2. Brightness Adjustments\n",
    "\n",
    "* Intuition: Let us say you have a grayscale image matrix of dimension 3x3<br>[150, 23, 21]<br>[168, 145, 23]<br>[170, 163, 150]<br>we need to reduce the brightness of this image by a factor of 10 i.e. each element of the image matrix should be subtracted by 10. Thus giving us the output image matrix as <br>[140, 13, 11]<br>[158, 135, 13]<br>[160, 153, 140]\n",
    "* Create a 3x3 matrix having random values between the range of 0 to 255.\n",
    "* Create a 3x3 matrix having all elements as 10.\n",
    "* Reduce (Subtraction) the brightness matrix from the image matrix."
   ]
  },
  {
   "cell_type": "code",
   "execution_count": 10,
   "metadata": {},
   "outputs": [
    {
     "name": "stdout",
     "output_type": "stream",
     "text": [
      "The first matrix: \n",
      " [[254  66 187]\n",
      " [ 44 108 114]\n",
      " [231 190 197]] \n",
      "\n",
      "\n",
      "The second matrix: \n",
      " [[10 10 10]\n",
      " [10 10 10]\n",
      " [10 10 10]] \n",
      "\n",
      "\n",
      "The result matrix: \n",
      " [[244  56 177]\n",
      " [ 34  98 104]\n",
      " [221 180 187]]\n"
     ]
    }
   ],
   "source": [
    "import numpy as np\n",
    "\n",
    "a = np.random.randint( low = 255, size =(3,3))\n",
    "print(\"The first matrix: \\n\",a,\"\\n\\n\")\n",
    "b = np.full((3,3) , 10)\n",
    "print(\"The second matrix: \\n\",b,\"\\n\\n\")\n",
    "\n",
    "c = np.subtract(a,b)\n",
    "print(\"The result matrix: \\n\",c)"
   ]
  },
  {
   "cell_type": "markdown",
   "metadata": {},
   "source": [
    "#### 3. Central Tendency Test\n",
    "\n",
    "* Intuition: Our goal here is to check the skewness of our distribution.\n",
    "* Skewness\n",
    "    * Positively Skewed : Mean > Median\n",
    "    * Negetively Skewed : Mean < Median\n",
    "    * Normal Curve : Mean = Median\n",
    "* Write a function that takes an array of 9 numbers as input and returns the skewness of its distribution.\n",
    "* Try your function for these inputs\n",
    "    * Input: [1,2,3,4,5,6,7,8,9] , Expected Output: \"Normal Curve\"\n",
    "    * Input: [1,2,3,4,5,6,9,9,10] , Expected Output: \"Positively Skewed\"\n",
    "    * Input: [1,1,1,4,5,6,7,8,9] , Expected Output: \"Negatively Skewed\"\n",
    "* **Note:** For this test consider the distribution to be sorted in an ascending order. Write code in such a way that even if unsorted array is passed as an input it handles it correctly."
   ]
  },
  {
   "cell_type": "code",
   "execution_count": 40,
   "metadata": {},
   "outputs": [
    {
     "name": "stdout",
     "output_type": "stream",
     "text": [
      " Enter 9 n0s: 5\n",
      " Enter 9 n0s: 4\n",
      " Enter 9 n0s: 5\n",
      " Enter 9 n0s: 7\n",
      " Enter 9 n0s: 8\n",
      " Enter 9 n0s: 6\n",
      " Enter 9 n0s: 5\n",
      " Enter 9 n0s: 4\n",
      " Enter 9 n0s: 2\n",
      "Your List:  [2, 4, 4, 5, 5, 5, 6, 7, 8]\n",
      "\n",
      " Mean:  5.111111111111111\n",
      "\n",
      " Median: 5\n",
      "\n",
      " Positively Skewed\n"
     ]
    }
   ],
   "source": [
    "\n",
    "a = []\n",
    "\n",
    "for i in range(9):\n",
    "    x = int(input(\" Enter 9 n0s: \"))\n",
    "    a.append(x)\n",
    "a1 = a.sort()\n",
    "\n",
    "print(\"Your List: \",a)\n",
    "\n",
    "\n",
    "m = 0\n",
    "for i in range(9):\n",
    "    m = m + a[i]\n",
    "    \n",
    "mean = m/9\n",
    "print(\"\\n Mean: \",mean)\n",
    "\n",
    "median = a[4]\n",
    "print(\"\\n Median:\",median)\n",
    "\n",
    "if mean > median:\n",
    "    print(\"\\n Positively Skewed\")\n",
    "\n",
    "elif median > mean:\n",
    "    print(\"\\n Negatively Skewed\")\n",
    "\n",
    "else:\n",
    "    print(\"\\n Normal curve\")\n",
    "\n"
   ]
  },
  {
   "cell_type": "markdown",
   "metadata": {},
   "source": [
    "#### 4. Calculating Distances\n",
    "\n",
    "* Below are two equations for calculating distances between 2 points\n",
    "    * Euclidean Distance : $\\sqrt{(x2 - x1)^2 + (y2-y1)^2}$\n",
    "    * Manhattan Distance : $ |x2-x1| + |y2-y1| $\n",
    "* Write a function that takes the x and y coordiantes for two points as inputs and returns the Euclidean and Manhattan distance between the two."
   ]
  },
  {
   "cell_type": "code",
   "execution_count": 43,
   "metadata": {},
   "outputs": [
    {
     "name": "stdout",
     "output_type": "stream",
     "text": [
      " Enter x1 and y1: 5\n",
      " Enter x1 and y1: 4\n",
      " Enter x2 and y2: 6\n",
      " Enter x2 and y2: 8\n",
      "Eucledian Distance:  8.5\n",
      "Manhattan Distance:  5\n"
     ]
    }
   ],
   "source": [
    "a = []\n",
    "\n",
    "for i in range(2):\n",
    "    x = int(input(\" Enter x1 and y1: \"))\n",
    "    a.append(x)\n",
    "    \n",
    "b = []\n",
    "\n",
    "for i in range(2):\n",
    "    y = int(input(\" Enter x2 and y2: \"))\n",
    "    b.append(y)\n",
    "    \n",
    "def distance(m,n):\n",
    "    e = (((n[0]-m[0])**2) + ((n[1]-m[1])**2))**1/2\n",
    "    print(\"Eucledian Distance: \",e)\n",
    "    \n",
    "    h = abs(n[0]-m[0]) + abs(n[1]-m[1])\n",
    "    print(\"Manhattan Distance: \",h)\n",
    "    \n",
    "distance(a,b)\n",
    "\n",
    "    "
   ]
  },
  {
   "cell_type": "markdown",
   "metadata": {},
   "source": [
    "#### 5. Softmax Function\n",
    "\n",
    "* The Softmax Function : $ \\frac{e^x}{\\sum{e^x}} $\n",
    "* Create a function that takes a array of numbers as input and returns the probabilities of each element of that array.\n",
    "* Eg: \n",
    "    * Input : [1,2,3]\n",
    "    * Denominator : e^1 + e^2 + e^3 = 2.71 + 7.38 + 20.08 = 30.16\n",
    "    * Softmax for each element:\n",
    "        * e^1/30.16 = 0.089\n",
    "        * e^2/30.16 = 0.244\n",
    "        * e^3/30.16 = 0.665"
   ]
  },
  {
   "cell_type": "code",
   "execution_count": null,
   "metadata": {},
   "outputs": [],
   "source": [
    "n = int(input(\" Enter numbers to be added\"))\n",
    "a = []\n",
    "for i in range(n):\n",
    "    x = int(input(\" Enter nos: \"))\n",
    "    a.append(x)\n",
    "    \n",
    "    \n",
    "\n",
    "def softmax(k):\n",
    "    for i in range(k):\n",
    "        \n",
    "        \n",
    "    "
   ]
  }
 ],
 "metadata": {
  "kernelspec": {
   "display_name": "Python 3",
   "language": "python",
   "name": "python3"
  },
  "language_info": {
   "codemirror_mode": {
    "name": "ipython",
    "version": 3
   },
   "file_extension": ".py",
   "mimetype": "text/x-python",
   "name": "python",
   "nbconvert_exporter": "python",
   "pygments_lexer": "ipython3",
   "version": "3.7.3"
  }
 },
 "nbformat": 4,
 "nbformat_minor": 2
}
